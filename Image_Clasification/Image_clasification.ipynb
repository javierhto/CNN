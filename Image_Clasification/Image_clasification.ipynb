{
 "cells": [
  {
   "cell_type": "markdown",
   "metadata": {},
   "source": [
    "# Cat and Dog Imaage clasification using CNN"
   ]
  },
  {
   "cell_type": "markdown",
   "metadata": {},
   "source": [
    "## 1. CNN: Convolutional Neural Network\n",
    "\n",
    "A Convolutional Neural Network (ConvNet/CNN) is a Deep Learning algorithm which can take in an input image, assign importance (learnable weights and biases) to various aspects/objects in the image and be able to differentiate one from the other. The pre-processing required in a ConvNet is much lower as compared to other classification algorithms. While in primitive methods filters are hand-engineered, with enough training, ConvNets have the ability to learn these filters/characteristics.\n",
    "\n",
    "**Aplications**:\n",
    "Image & Video recognition, Image Analysis & Classification, Media Recreation, Recommendation Systems, Natural Language Processing, etc."
   ]
  },
  {
   "cell_type": "markdown",
   "metadata": {},
   "source": [
    "![title](Img/1.gif)"
   ]
  },
  {
   "cell_type": "markdown",
   "metadata": {},
   "source": [
    "Important links\n",
    "\n",
    "<ul>\n",
    "<li>https://becominghuman.ai/building-an-image-classifier-using-deep-learning-in-python-totally-from-a-beginners-perspective-be8dbaf22dd8</li>\n",
    "<li>https://www.kaggle.com/datasets/tongpython/cat-and-dog</li>\n",
    "<li>https://www.kaggle.com/code/sangwookchn/convolutional-neural-networks-cnn-keras/data</li>\n",
    "<li>https://www.kaggle.com/datasets/franciscoescobar/satellite-images-of-water-bodies?resource=download</li>\n",
    "</ul>"
   ]
  },
  {
   "cell_type": "markdown",
   "metadata": {},
   "source": []
  },
  {
   "cell_type": "markdown",
   "metadata": {},
   "source": []
  },
  {
   "cell_type": "markdown",
   "metadata": {},
   "source": [
    "This CNN involves four principal steps\n",
    "\n",
    "<ol>\n",
    "<li>Convolution</li>\n",
    "<li>Pooling</li>\n",
    "<li>Flattening</li>\n",
    "<li>Full conection</li>\n",
    "</ol>"
   ]
  },
  {
   "cell_type": "code",
   "execution_count": 1,
   "metadata": {},
   "outputs": [],
   "source": [
    "# import libraries\n",
    "\n",
    "from tensorflow.keras.models import Sequential\n",
    "\n",
    "from tensorflow.keras.layers import Conv2D\n",
    "\n",
    "from tensorflow.keras.layers import MaxPooling2D\n",
    "\n",
    "from tensorflow.keras.layers import Flatten\n",
    "\n",
    "from tensorflow.keras.layers import Dense\n"
   ]
  },
  {
   "cell_type": "markdown",
   "metadata": {},
   "source": [
    "**Sequential**: Kind of model appropriate for a plain stack of layers where each layer has exactly one input tensor and one outut tensor.\n",
    "\n",
    "**Conv2d**: A convolution operation maps an input to an output using a filter and a sliding window.\n",
    "Example: https://deeplizard.com/resource/pavq7noze2\n",
    "\n",
    "**MaxPooling2D**: Max pooling reduces the size of images by reducing the number of pixels in the output from the previous convolutional layer.\n",
    "Example: https://deeplizard.com/resource/pavq7noze3\n",
    "\n",
    "**Flatten**: A flatten layer collapses the spatial dimensions of the input into the channel dimension\n",
    "\n",
    "**Dense**: hich is used to perform the full connection of the neural network, which is the step 4 in the process of building a CNN\n"
   ]
  },
  {
   "cell_type": "markdown",
   "metadata": {},
   "source": [
    "![title](Img/4.png)"
   ]
  },
  {
   "cell_type": "markdown",
   "metadata": {},
   "source": [
    "# 2. Model"
   ]
  },
  {
   "cell_type": "code",
   "execution_count": 2,
   "metadata": {},
   "outputs": [],
   "source": [
    "classifier = Sequential()\n",
    "\n",
    "classifier.add(Conv2D(32, 3, input_shape = (64, 64, 3), activation='relu'))\n",
    "\n",
    "classifier.add(MaxPooling2D(pool_size = (3, 3)))\n",
    "\n",
    "classifier.add(Flatten())\n",
    "\n",
    "classifier.add(Dense(units = 128, activation='relu'))\n",
    "\n",
    "classifier.add(Dense(units = 1, activation = 'sigmoid'))"
   ]
  },
  {
   "cell_type": "code",
   "execution_count": 3,
   "metadata": {},
   "outputs": [],
   "source": [
    "classifier.compile(optimizer = 'adam', loss = 'binary_crossentropy', metrics = ['accuracy'])"
   ]
  },
  {
   "cell_type": "code",
   "execution_count": 5,
   "metadata": {},
   "outputs": [],
   "source": [
    "new_classifier = Sequential()\n",
    "\n",
    "# Initial convolution\n",
    "new_classifier.add(Conv2D(16, 2, input_shape = (64, 64, 3), activation='relu'))\n",
    "new_classifier.add(MaxPooling2D(pool_size = (2, 2)))\n",
    "\n",
    "# Second convolution\n",
    "new_classifier.add(Conv2D(32, 2, activation='relu'))\n",
    "new_classifier.add(MaxPooling2D(pool_size = (2, 2)))\n",
    "\n",
    "# Third convolution\n",
    "new_classifier.add(Conv2D(32, 2, activation='relu'))\n",
    "new_classifier.add(MaxPooling2D(pool_size = (2, 2)))\n",
    "\n",
    "# Flatten \n",
    "new_classifier.add(Flatten())\n",
    "\n",
    "#\n",
    "new_classifier.add(Dense(256, activation='relu'))\n",
    "new_classifier.add(Dense(1, activation='sigmoid'))\n"
   ]
  },
  {
   "cell_type": "code",
   "execution_count": 7,
   "metadata": {},
   "outputs": [
    {
     "name": "stdout",
     "output_type": "stream",
     "text": [
      "Model: \"sequential_2\"\n",
      "_________________________________________________________________\n",
      " Layer (type)                Output Shape              Param #   \n",
      "=================================================================\n",
      " conv2d_4 (Conv2D)           (None, 63, 63, 16)        208       \n",
      "                                                                 \n",
      " max_pooling2d_4 (MaxPooling  (None, 31, 31, 16)       0         \n",
      " 2D)                                                             \n",
      "                                                                 \n",
      " conv2d_5 (Conv2D)           (None, 30, 30, 32)        2080      \n",
      "                                                                 \n",
      " max_pooling2d_5 (MaxPooling  (None, 15, 15, 32)       0         \n",
      " 2D)                                                             \n",
      "                                                                 \n",
      " conv2d_6 (Conv2D)           (None, 14, 14, 32)        4128      \n",
      "                                                                 \n",
      " max_pooling2d_6 (MaxPooling  (None, 7, 7, 32)         0         \n",
      " 2D)                                                             \n",
      "                                                                 \n",
      " flatten_2 (Flatten)         (None, 1568)              0         \n",
      "                                                                 \n",
      " dense_4 (Dense)             (None, 256)               401664    \n",
      "                                                                 \n",
      " dense_5 (Dense)             (None, 1)                 257       \n",
      "                                                                 \n",
      "=================================================================\n",
      "Total params: 408,337\n",
      "Trainable params: 408,337\n",
      "Non-trainable params: 0\n",
      "_________________________________________________________________\n"
     ]
    }
   ],
   "source": [
    "new_classifier.summary()"
   ]
  },
  {
   "cell_type": "code",
   "execution_count": 12,
   "metadata": {},
   "outputs": [
    {
     "name": "stderr",
     "output_type": "stream",
     "text": [
      "c:\\Users\\javie\\anaconda3\\envs\\ML\\lib\\site-packages\\keras\\optimizer_v2\\rmsprop.py:130: UserWarning: The `lr` argument is deprecated, use `learning_rate` instead.\n",
      "  super(RMSprop, self).__init__(name, **kwargs)\n"
     ]
    }
   ],
   "source": [
    "from tensorflow.keras.optimizers import RMSprop\n",
    "new_classifier.compile(loss='binary_crossentropy', optimizer=RMSprop(lr=0.001), metrics='accuracy')"
   ]
  },
  {
   "cell_type": "code",
   "execution_count": 11,
   "metadata": {},
   "outputs": [],
   "source": []
  },
  {
   "cell_type": "code",
   "execution_count": null,
   "metadata": {},
   "outputs": [],
   "source": []
  },
  {
   "cell_type": "code",
   "execution_count": null,
   "metadata": {},
   "outputs": [],
   "source": []
  },
  {
   "cell_type": "code",
   "execution_count": null,
   "metadata": {},
   "outputs": [],
   "source": []
  },
  {
   "cell_type": "code",
   "execution_count": 3,
   "metadata": {},
   "outputs": [],
   "source": [
    "new_classifier.compile(optimizer = 'adam', loss = 'binary_crossentropy', metrics = ['accuracy'])"
   ]
  },
  {
   "cell_type": "markdown",
   "metadata": {},
   "source": [
    "* Optimizer parameter is to choose the stochastic gradient descent algorithm.\n",
    "* Loss parameter is to choose the loss function.\n",
    "* Finally, the metrics parameter is to choose the performance metric."
   ]
  },
  {
   "cell_type": "markdown",
   "metadata": {},
   "source": [
    "# 2. Dataset\n",
    "\n",
    "We have two folders, first **training set** that contains 8000 images of cats and dogs, and **test_set** that contains 2000 other photos for cats and dogs"
   ]
  },
  {
   "cell_type": "code",
   "execution_count": 13,
   "metadata": {},
   "outputs": [
    {
     "name": "stdout",
     "output_type": "stream",
     "text": [
      "Found 8005 images belonging to 1 classes.\n",
      "Found 2023 images belonging to 2 classes.\n"
     ]
    }
   ],
   "source": [
    "from keras.preprocessing.image import ImageDataGenerator\n",
    "\n",
    "train_datagen = ImageDataGenerator(rescale = 1./255, shear_range = 0.2, zoom_range = 0.2, horizontal_flip = True)\n",
    "test_datagen = ImageDataGenerator(rescale = 1./255)\n",
    "training_set = train_datagen.flow_from_directory('training_set', target_size = (64, 64), batch_size = 32, class_mode = 'binary')\n",
    "test_set = test_datagen.flow_from_directory('test', target_size = (64, 64), batch_size = 32, class_mode = 'binary') \n"
   ]
  },
  {
   "cell_type": "code",
   "execution_count": 16,
   "metadata": {},
   "outputs": [
    {
     "name": "stdout",
     "output_type": "stream",
     "text": [
      "Epoch 1/15\n",
      "8/8 [==============================] - 8s 588ms/step - loss: 0.0986 - accuracy: 0.8789 - val_loss: 4.7864 - val_accuracy: 0.5273\n",
      "Epoch 2/15\n",
      "8/8 [==============================] - 4s 565ms/step - loss: 2.3304e-04 - accuracy: 1.0000 - val_loss: 6.6122 - val_accuracy: 0.5156\n",
      "Epoch 3/15\n",
      "8/8 [==============================] - 3s 420ms/step - loss: 2.1863e-05 - accuracy: 1.0000 - val_loss: 8.0771 - val_accuracy: 0.4766\n",
      "Epoch 4/15\n",
      "8/8 [==============================] - 3s 430ms/step - loss: 1.2369e-05 - accuracy: 1.0000 - val_loss: 9.0101 - val_accuracy: 0.4648\n",
      "Epoch 5/15\n",
      "8/8 [==============================] - 3s 417ms/step - loss: 3.2457e-06 - accuracy: 1.0000 - val_loss: 9.6648 - val_accuracy: 0.4570\n",
      "Epoch 6/15\n",
      "8/8 [==============================] - 4s 511ms/step - loss: 1.4176e-06 - accuracy: 1.0000 - val_loss: 9.2317 - val_accuracy: 0.4961\n",
      "Epoch 7/15\n",
      "8/8 [==============================] - 4s 516ms/step - loss: 5.5418e-07 - accuracy: 1.0000 - val_loss: 9.3250 - val_accuracy: 0.4961\n",
      "Epoch 8/15\n",
      "8/8 [==============================] - 4s 545ms/step - loss: 7.4880e-07 - accuracy: 1.0000 - val_loss: 9.7793 - val_accuracy: 0.4961\n",
      "Epoch 9/15\n",
      "8/8 [==============================] - 4s 524ms/step - loss: 4.0717e-07 - accuracy: 1.0000 - val_loss: 10.1328 - val_accuracy: 0.4961\n",
      "Epoch 10/15\n",
      "8/8 [==============================] - 3s 421ms/step - loss: 1.2283e-06 - accuracy: 1.0000 - val_loss: 9.9908 - val_accuracy: 0.5508\n",
      "Epoch 11/15\n",
      "8/8 [==============================] - 3s 421ms/step - loss: 1.5914e-06 - accuracy: 1.0000 - val_loss: 10.6648 - val_accuracy: 0.5664\n",
      "Epoch 12/15\n",
      "8/8 [==============================] - 4s 498ms/step - loss: 8.5324e-09 - accuracy: 1.0000 - val_loss: 13.3554 - val_accuracy: 0.4609\n",
      "Epoch 13/15\n",
      "8/8 [==============================] - 4s 442ms/step - loss: 2.1020e-08 - accuracy: 1.0000 - val_loss: 12.3776 - val_accuracy: 0.4961\n",
      "Epoch 14/15\n",
      "8/8 [==============================] - 4s 484ms/step - loss: 7.4934e-08 - accuracy: 1.0000 - val_loss: 13.1978 - val_accuracy: 0.4805\n",
      "Epoch 15/15\n",
      "8/8 [==============================] - 4s 434ms/step - loss: 1.1178e-08 - accuracy: 1.0000 - val_loss: 12.8835 - val_accuracy: 0.4961\n"
     ]
    }
   ],
   "source": [
    "history = new_classifier.fit(training_set,\n",
    "steps_per_epoch=8,\n",
    "epochs=15,\n",
    "verbose=1,\n",
    "validation_data = test_set,\n",
    " validation_steps=8)"
   ]
  },
  {
   "cell_type": "code",
   "execution_count": 17,
   "metadata": {},
   "outputs": [
    {
     "name": "stdout",
     "output_type": "stream",
     "text": [
      "64/64 [==============================] - 8s 131ms/step - loss: 12.8104 - accuracy: 0.4998\n"
     ]
    },
    {
     "data": {
      "text/plain": [
       "[12.810441017150879, 0.49975284934043884]"
      ]
     },
     "execution_count": 17,
     "metadata": {},
     "output_type": "execute_result"
    }
   ],
   "source": [
    "new_classifier.evaluate(test_set)"
   ]
  },
  {
   "cell_type": "code",
   "execution_count": 18,
   "metadata": {},
   "outputs": [
    {
     "data": {
      "image/png": "[encoded data removed]",
      "text/plain": [
       "<Figure size 432x288 with 1 Axes>"
      ]
     },
     "metadata": {
      "needs_background": "light"
     },
     "output_type": "display_data"
    },
    {
     "data": {
      "image/png": "[encoded data removed]",
      "text/plain": [
       "<Figure size 432x288 with 1 Axes>"
      ]
     },
     "metadata": {
      "needs_background": "light"
     },
     "output_type": "display_data"
    },
    {
     "name": "stdout",
     "output_type": "stream",
     "text": [
      "64/64 [==============================] - 8s 129ms/step - loss: 12.8104 - accuracy: 0.4998\n",
      "Accuracy: 0.50\n"
     ]
    }
   ],
   "source": [
    "import matplotlib.pyplot as plt\n",
    "# Historia de la métrica acccuracy\n",
    "plt.plot(history.history['accuracy'])\n",
    "plt.plot(history.history['val_accuracy'])\n",
    "plt.title('model accuracy')\n",
    "plt.ylabel('accuracy')\n",
    "plt.xlabel('epoch')\n",
    "plt.legend(['train', 'test'], loc='upper left')\n",
    "plt.show()\n",
    "\n",
    "# Historia de la función objetivo \"categorical_cross_entropy\"\n",
    "plt.plot(history.history['loss'])\n",
    "plt.plot(history.history['val_loss'])\n",
    "plt.title('Función Objetivo')\n",
    "plt.ylabel('loss')\n",
    "plt.xlabel('epoch')\n",
    "plt.legend(['train', 'test'], loc='upper left')\n",
    "plt.show()\n",
    "_, accuracy = new_classifier.evaluate(test_set)\n",
    "print('Accuracy: %.2f' % (accuracy))"
   ]
  },
  {
   "cell_type": "code",
   "execution_count": null,
   "metadata": {},
   "outputs": [],
   "source": []
  },
  {
   "cell_type": "code",
   "execution_count": 15,
   "metadata": {},
   "outputs": [
    {
     "name": "stderr",
     "output_type": "stream",
     "text": [
      "C:\\Users\\javie\\AppData\\Local\\Temp\\ipykernel_12956\\4059380008.py:1: UserWarning: `Model.fit_generator` is deprecated and will be removed in a future version. Please use `Model.fit`, which supports generators.\n",
      "  classifier.fit_generator(training_set, epochs = 10, validation_data = test_set)\n"
     ]
    },
    {
     "name": "stdout",
     "output_type": "stream",
     "text": [
      "Epoch 1/10\n",
      "124/251 [=============>................] - ETA: 31s - loss: 0.0051 - accuracy: 0.9995"
     ]
    },
    {
     "ename": "KeyboardInterrupt",
     "evalue": "",
     "output_type": "error",
     "traceback": [
      "\u001b[1;31m---------------------------------------------------------------------------\u001b[0m",
      "\u001b[1;31mKeyboardInterrupt\u001b[0m                         Traceback (most recent call last)",
      "\u001b[1;32md:\\Develop\\CNN2\\CNN\\Image_Clasification\\Image_clasification.ipynb Cell 26'\u001b[0m in \u001b[0;36m<cell line: 1>\u001b[1;34m()\u001b[0m\n\u001b[1;32m----> <a href='vscode-notebook-cell:/d%3A/Develop/CNN2/CNN/Image_Clasification/Image_clasification.ipynb#ch0000018?line=0'>1</a>\u001b[0m classifier\u001b[39m.\u001b[39;49mfit_generator(training_set, epochs \u001b[39m=\u001b[39;49m \u001b[39m10\u001b[39;49m, validation_data \u001b[39m=\u001b[39;49m test_set)\n",
      "File \u001b[1;32mc:\\Users\\javie\\anaconda3\\envs\\ML\\lib\\site-packages\\keras\\engine\\training.py:2209\u001b[0m, in \u001b[0;36mModel.fit_generator\u001b[1;34m(self, generator, steps_per_epoch, epochs, verbose, callbacks, validation_data, validation_steps, validation_freq, class_weight, max_queue_size, workers, use_multiprocessing, shuffle, initial_epoch)\u001b[0m\n\u001b[0;32m   <a href='file:///c%3A/Users/javie/anaconda3/envs/ML/lib/site-packages/keras/engine/training.py?line=2197'>2198</a>\u001b[0m \u001b[39m\"\"\"Fits the model on data yielded batch-by-batch by a Python generator.\u001b[39;00m\n\u001b[0;32m   <a href='file:///c%3A/Users/javie/anaconda3/envs/ML/lib/site-packages/keras/engine/training.py?line=2198'>2199</a>\u001b[0m \n\u001b[0;32m   <a href='file:///c%3A/Users/javie/anaconda3/envs/ML/lib/site-packages/keras/engine/training.py?line=2199'>2200</a>\u001b[0m \u001b[39mDEPRECATED:\u001b[39;00m\n\u001b[0;32m   <a href='file:///c%3A/Users/javie/anaconda3/envs/ML/lib/site-packages/keras/engine/training.py?line=2200'>2201</a>\u001b[0m \u001b[39m  `Model.fit` now supports generators, so there is no longer any need to use\u001b[39;00m\n\u001b[0;32m   <a href='file:///c%3A/Users/javie/anaconda3/envs/ML/lib/site-packages/keras/engine/training.py?line=2201'>2202</a>\u001b[0m \u001b[39m  this endpoint.\u001b[39;00m\n\u001b[0;32m   <a href='file:///c%3A/Users/javie/anaconda3/envs/ML/lib/site-packages/keras/engine/training.py?line=2202'>2203</a>\u001b[0m \u001b[39m\"\"\"\u001b[39;00m\n\u001b[0;32m   <a href='file:///c%3A/Users/javie/anaconda3/envs/ML/lib/site-packages/keras/engine/training.py?line=2203'>2204</a>\u001b[0m warnings\u001b[39m.\u001b[39mwarn(\n\u001b[0;32m   <a href='file:///c%3A/Users/javie/anaconda3/envs/ML/lib/site-packages/keras/engine/training.py?line=2204'>2205</a>\u001b[0m     \u001b[39m'\u001b[39m\u001b[39m`Model.fit_generator` is deprecated and \u001b[39m\u001b[39m'\u001b[39m\n\u001b[0;32m   <a href='file:///c%3A/Users/javie/anaconda3/envs/ML/lib/site-packages/keras/engine/training.py?line=2205'>2206</a>\u001b[0m     \u001b[39m'\u001b[39m\u001b[39mwill be removed in a future version. \u001b[39m\u001b[39m'\u001b[39m\n\u001b[0;32m   <a href='file:///c%3A/Users/javie/anaconda3/envs/ML/lib/site-packages/keras/engine/training.py?line=2206'>2207</a>\u001b[0m     \u001b[39m'\u001b[39m\u001b[39mPlease use `Model.fit`, which supports generators.\u001b[39m\u001b[39m'\u001b[39m,\n\u001b[0;32m   <a href='file:///c%3A/Users/javie/anaconda3/envs/ML/lib/site-packages/keras/engine/training.py?line=2207'>2208</a>\u001b[0m     stacklevel\u001b[39m=\u001b[39m\u001b[39m2\u001b[39m)\n\u001b[1;32m-> <a href='file:///c%3A/Users/javie/anaconda3/envs/ML/lib/site-packages/keras/engine/training.py?line=2208'>2209</a>\u001b[0m \u001b[39mreturn\u001b[39;00m \u001b[39mself\u001b[39;49m\u001b[39m.\u001b[39;49mfit(\n\u001b[0;32m   <a href='file:///c%3A/Users/javie/anaconda3/envs/ML/lib/site-packages/keras/engine/training.py?line=2209'>2210</a>\u001b[0m     generator,\n\u001b[0;32m   <a href='file:///c%3A/Users/javie/anaconda3/envs/ML/lib/site-packages/keras/engine/training.py?line=2210'>2211</a>\u001b[0m     steps_per_epoch\u001b[39m=\u001b[39;49msteps_per_epoch,\n\u001b[0;32m   <a href='file:///c%3A/Users/javie/anaconda3/envs/ML/lib/site-packages/keras/engine/training.py?line=2211'>2212</a>\u001b[0m     epochs\u001b[39m=\u001b[39;49mepochs,\n\u001b[0;32m   <a href='file:///c%3A/Users/javie/anaconda3/envs/ML/lib/site-packages/keras/engine/training.py?line=2212'>2213</a>\u001b[0m     verbose\u001b[39m=\u001b[39;49mverbose,\n\u001b[0;32m   <a href='file:///c%3A/Users/javie/anaconda3/envs/ML/lib/site-packages/keras/engine/training.py?line=2213'>2214</a>\u001b[0m     callbacks\u001b[39m=\u001b[39;49mcallbacks,\n\u001b[0;32m   <a href='file:///c%3A/Users/javie/anaconda3/envs/ML/lib/site-packages/keras/engine/training.py?line=2214'>2215</a>\u001b[0m     validation_data\u001b[39m=\u001b[39;49mvalidation_data,\n\u001b[0;32m   <a href='file:///c%3A/Users/javie/anaconda3/envs/ML/lib/site-packages/keras/engine/training.py?line=2215'>2216</a>\u001b[0m     validation_steps\u001b[39m=\u001b[39;49mvalidation_steps,\n\u001b[0;32m   <a href='file:///c%3A/Users/javie/anaconda3/envs/ML/lib/site-packages/keras/engine/training.py?line=2216'>2217</a>\u001b[0m     validation_freq\u001b[39m=\u001b[39;49mvalidation_freq,\n\u001b[0;32m   <a href='file:///c%3A/Users/javie/anaconda3/envs/ML/lib/site-packages/keras/engine/training.py?line=2217'>2218</a>\u001b[0m     class_weight\u001b[39m=\u001b[39;49mclass_weight,\n\u001b[0;32m   <a href='file:///c%3A/Users/javie/anaconda3/envs/ML/lib/site-packages/keras/engine/training.py?line=2218'>2219</a>\u001b[0m     max_queue_size\u001b[39m=\u001b[39;49mmax_queue_size,\n\u001b[0;32m   <a href='file:///c%3A/Users/javie/anaconda3/envs/ML/lib/site-packages/keras/engine/training.py?line=2219'>2220</a>\u001b[0m     workers\u001b[39m=\u001b[39;49mworkers,\n\u001b[0;32m   <a href='file:///c%3A/Users/javie/anaconda3/envs/ML/lib/site-packages/keras/engine/training.py?line=2220'>2221</a>\u001b[0m     use_multiprocessing\u001b[39m=\u001b[39;49muse_multiprocessing,\n\u001b[0;32m   <a href='file:///c%3A/Users/javie/anaconda3/envs/ML/lib/site-packages/keras/engine/training.py?line=2221'>2222</a>\u001b[0m     shuffle\u001b[39m=\u001b[39;49mshuffle,\n\u001b[0;32m   <a href='file:///c%3A/Users/javie/anaconda3/envs/ML/lib/site-packages/keras/engine/training.py?line=2222'>2223</a>\u001b[0m     initial_epoch\u001b[39m=\u001b[39;49minitial_epoch)\n",
      "File \u001b[1;32mc:\\Users\\javie\\anaconda3\\envs\\ML\\lib\\site-packages\\keras\\utils\\traceback_utils.py:64\u001b[0m, in \u001b[0;36mfilter_traceback.<locals>.error_handler\u001b[1;34m(*args, **kwargs)\u001b[0m\n\u001b[0;32m     <a href='file:///c%3A/Users/javie/anaconda3/envs/ML/lib/site-packages/keras/utils/traceback_utils.py?line=61'>62</a>\u001b[0m filtered_tb \u001b[39m=\u001b[39m \u001b[39mNone\u001b[39;00m\n\u001b[0;32m     <a href='file:///c%3A/Users/javie/anaconda3/envs/ML/lib/site-packages/keras/utils/traceback_utils.py?line=62'>63</a>\u001b[0m \u001b[39mtry\u001b[39;00m:\n\u001b[1;32m---> <a href='file:///c%3A/Users/javie/anaconda3/envs/ML/lib/site-packages/keras/utils/traceback_utils.py?line=63'>64</a>\u001b[0m   \u001b[39mreturn\u001b[39;00m fn(\u001b[39m*\u001b[39margs, \u001b[39m*\u001b[39m\u001b[39m*\u001b[39mkwargs)\n\u001b[0;32m     <a href='file:///c%3A/Users/javie/anaconda3/envs/ML/lib/site-packages/keras/utils/traceback_utils.py?line=64'>65</a>\u001b[0m \u001b[39mexcept\u001b[39;00m \u001b[39mException\u001b[39;00m \u001b[39mas\u001b[39;00m e:  \u001b[39m# pylint: disable=broad-except\u001b[39;00m\n\u001b[0;32m     <a href='file:///c%3A/Users/javie/anaconda3/envs/ML/lib/site-packages/keras/utils/traceback_utils.py?line=65'>66</a>\u001b[0m   filtered_tb \u001b[39m=\u001b[39m _process_traceback_frames(e\u001b[39m.\u001b[39m__traceback__)\n",
      "File \u001b[1;32mc:\\Users\\javie\\anaconda3\\envs\\ML\\lib\\site-packages\\keras\\engine\\training.py:1384\u001b[0m, in \u001b[0;36mModel.fit\u001b[1;34m(self, x, y, batch_size, epochs, verbose, callbacks, validation_split, validation_data, shuffle, class_weight, sample_weight, initial_epoch, steps_per_epoch, validation_steps, validation_batch_size, validation_freq, max_queue_size, workers, use_multiprocessing)\u001b[0m\n\u001b[0;32m   <a href='file:///c%3A/Users/javie/anaconda3/envs/ML/lib/site-packages/keras/engine/training.py?line=1376'>1377</a>\u001b[0m \u001b[39mwith\u001b[39;00m tf\u001b[39m.\u001b[39mprofiler\u001b[39m.\u001b[39mexperimental\u001b[39m.\u001b[39mTrace(\n\u001b[0;32m   <a href='file:///c%3A/Users/javie/anaconda3/envs/ML/lib/site-packages/keras/engine/training.py?line=1377'>1378</a>\u001b[0m     \u001b[39m'\u001b[39m\u001b[39mtrain\u001b[39m\u001b[39m'\u001b[39m,\n\u001b[0;32m   <a href='file:///c%3A/Users/javie/anaconda3/envs/ML/lib/site-packages/keras/engine/training.py?line=1378'>1379</a>\u001b[0m     epoch_num\u001b[39m=\u001b[39mepoch,\n\u001b[0;32m   <a href='file:///c%3A/Users/javie/anaconda3/envs/ML/lib/site-packages/keras/engine/training.py?line=1379'>1380</a>\u001b[0m     step_num\u001b[39m=\u001b[39mstep,\n\u001b[0;32m   <a href='file:///c%3A/Users/javie/anaconda3/envs/ML/lib/site-packages/keras/engine/training.py?line=1380'>1381</a>\u001b[0m     batch_size\u001b[39m=\u001b[39mbatch_size,\n\u001b[0;32m   <a href='file:///c%3A/Users/javie/anaconda3/envs/ML/lib/site-packages/keras/engine/training.py?line=1381'>1382</a>\u001b[0m     _r\u001b[39m=\u001b[39m\u001b[39m1\u001b[39m):\n\u001b[0;32m   <a href='file:///c%3A/Users/javie/anaconda3/envs/ML/lib/site-packages/keras/engine/training.py?line=1382'>1383</a>\u001b[0m   callbacks\u001b[39m.\u001b[39mon_train_batch_begin(step)\n\u001b[1;32m-> <a href='file:///c%3A/Users/javie/anaconda3/envs/ML/lib/site-packages/keras/engine/training.py?line=1383'>1384</a>\u001b[0m   tmp_logs \u001b[39m=\u001b[39m \u001b[39mself\u001b[39;49m\u001b[39m.\u001b[39;49mtrain_function(iterator)\n\u001b[0;32m   <a href='file:///c%3A/Users/javie/anaconda3/envs/ML/lib/site-packages/keras/engine/training.py?line=1384'>1385</a>\u001b[0m   \u001b[39mif\u001b[39;00m data_handler\u001b[39m.\u001b[39mshould_sync:\n\u001b[0;32m   <a href='file:///c%3A/Users/javie/anaconda3/envs/ML/lib/site-packages/keras/engine/training.py?line=1385'>1386</a>\u001b[0m     context\u001b[39m.\u001b[39masync_wait()\n",
      "File \u001b[1;32mc:\\Users\\javie\\anaconda3\\envs\\ML\\lib\\site-packages\\tensorflow\\python\\util\\traceback_utils.py:150\u001b[0m, in \u001b[0;36mfilter_traceback.<locals>.error_handler\u001b[1;34m(*args, **kwargs)\u001b[0m\n\u001b[0;32m    <a href='file:///c%3A/Users/javie/anaconda3/envs/ML/lib/site-packages/tensorflow/python/util/traceback_utils.py?line=147'>148</a>\u001b[0m filtered_tb \u001b[39m=\u001b[39m \u001b[39mNone\u001b[39;00m\n\u001b[0;32m    <a href='file:///c%3A/Users/javie/anaconda3/envs/ML/lib/site-packages/tensorflow/python/util/traceback_utils.py?line=148'>149</a>\u001b[0m \u001b[39mtry\u001b[39;00m:\n\u001b[1;32m--> <a href='file:///c%3A/Users/javie/anaconda3/envs/ML/lib/site-packages/tensorflow/python/util/traceback_utils.py?line=149'>150</a>\u001b[0m   \u001b[39mreturn\u001b[39;00m fn(\u001b[39m*\u001b[39margs, \u001b[39m*\u001b[39m\u001b[39m*\u001b[39mkwargs)\n\u001b[0;32m    <a href='file:///c%3A/Users/javie/anaconda3/envs/ML/lib/site-packages/tensorflow/python/util/traceback_utils.py?line=150'>151</a>\u001b[0m \u001b[39mexcept\u001b[39;00m \u001b[39mException\u001b[39;00m \u001b[39mas\u001b[39;00m e:\n\u001b[0;32m    <a href='file:///c%3A/Users/javie/anaconda3/envs/ML/lib/site-packages/tensorflow/python/util/traceback_utils.py?line=151'>152</a>\u001b[0m   filtered_tb \u001b[39m=\u001b[39m _process_traceback_frames(e\u001b[39m.\u001b[39m__traceback__)\n",
      "File \u001b[1;32mc:\\Users\\javie\\anaconda3\\envs\\ML\\lib\\site-packages\\tensorflow\\python\\eager\\def_function.py:915\u001b[0m, in \u001b[0;36mFunction.__call__\u001b[1;34m(self, *args, **kwds)\u001b[0m\n\u001b[0;32m    <a href='file:///c%3A/Users/javie/anaconda3/envs/ML/lib/site-packages/tensorflow/python/eager/def_function.py?line=911'>912</a>\u001b[0m compiler \u001b[39m=\u001b[39m \u001b[39m\"\u001b[39m\u001b[39mxla\u001b[39m\u001b[39m\"\u001b[39m \u001b[39mif\u001b[39;00m \u001b[39mself\u001b[39m\u001b[39m.\u001b[39m_jit_compile \u001b[39melse\u001b[39;00m \u001b[39m\"\u001b[39m\u001b[39mnonXla\u001b[39m\u001b[39m\"\u001b[39m\n\u001b[0;32m    <a href='file:///c%3A/Users/javie/anaconda3/envs/ML/lib/site-packages/tensorflow/python/eager/def_function.py?line=913'>914</a>\u001b[0m \u001b[39mwith\u001b[39;00m OptionalXlaContext(\u001b[39mself\u001b[39m\u001b[39m.\u001b[39m_jit_compile):\n\u001b[1;32m--> <a href='file:///c%3A/Users/javie/anaconda3/envs/ML/lib/site-packages/tensorflow/python/eager/def_function.py?line=914'>915</a>\u001b[0m   result \u001b[39m=\u001b[39m \u001b[39mself\u001b[39m\u001b[39m.\u001b[39m_call(\u001b[39m*\u001b[39margs, \u001b[39m*\u001b[39m\u001b[39m*\u001b[39mkwds)\n\u001b[0;32m    <a href='file:///c%3A/Users/javie/anaconda3/envs/ML/lib/site-packages/tensorflow/python/eager/def_function.py?line=916'>917</a>\u001b[0m new_tracing_count \u001b[39m=\u001b[39m \u001b[39mself\u001b[39m\u001b[39m.\u001b[39mexperimental_get_tracing_count()\n\u001b[0;32m    <a href='file:///c%3A/Users/javie/anaconda3/envs/ML/lib/site-packages/tensorflow/python/eager/def_function.py?line=917'>918</a>\u001b[0m without_tracing \u001b[39m=\u001b[39m (tracing_count \u001b[39m==\u001b[39m new_tracing_count)\n",
      "File \u001b[1;32mc:\\Users\\javie\\anaconda3\\envs\\ML\\lib\\site-packages\\tensorflow\\python\\eager\\def_function.py:947\u001b[0m, in \u001b[0;36mFunction._call\u001b[1;34m(self, *args, **kwds)\u001b[0m\n\u001b[0;32m    <a href='file:///c%3A/Users/javie/anaconda3/envs/ML/lib/site-packages/tensorflow/python/eager/def_function.py?line=943'>944</a>\u001b[0m   \u001b[39mself\u001b[39m\u001b[39m.\u001b[39m_lock\u001b[39m.\u001b[39mrelease()\n\u001b[0;32m    <a href='file:///c%3A/Users/javie/anaconda3/envs/ML/lib/site-packages/tensorflow/python/eager/def_function.py?line=944'>945</a>\u001b[0m   \u001b[39m# In this case we have created variables on the first call, so we run the\u001b[39;00m\n\u001b[0;32m    <a href='file:///c%3A/Users/javie/anaconda3/envs/ML/lib/site-packages/tensorflow/python/eager/def_function.py?line=945'>946</a>\u001b[0m   \u001b[39m# defunned version which is guaranteed to never create variables.\u001b[39;00m\n\u001b[1;32m--> <a href='file:///c%3A/Users/javie/anaconda3/envs/ML/lib/site-packages/tensorflow/python/eager/def_function.py?line=946'>947</a>\u001b[0m   \u001b[39mreturn\u001b[39;00m \u001b[39mself\u001b[39m\u001b[39m.\u001b[39m_stateless_fn(\u001b[39m*\u001b[39margs, \u001b[39m*\u001b[39m\u001b[39m*\u001b[39mkwds)  \u001b[39m# pylint: disable=not-callable\u001b[39;00m\n\u001b[0;32m    <a href='file:///c%3A/Users/javie/anaconda3/envs/ML/lib/site-packages/tensorflow/python/eager/def_function.py?line=947'>948</a>\u001b[0m \u001b[39melif\u001b[39;00m \u001b[39mself\u001b[39m\u001b[39m.\u001b[39m_stateful_fn \u001b[39mis\u001b[39;00m \u001b[39mnot\u001b[39;00m \u001b[39mNone\u001b[39;00m:\n\u001b[0;32m    <a href='file:///c%3A/Users/javie/anaconda3/envs/ML/lib/site-packages/tensorflow/python/eager/def_function.py?line=948'>949</a>\u001b[0m   \u001b[39m# Release the lock early so that multiple threads can perform the call\u001b[39;00m\n\u001b[0;32m    <a href='file:///c%3A/Users/javie/anaconda3/envs/ML/lib/site-packages/tensorflow/python/eager/def_function.py?line=949'>950</a>\u001b[0m   \u001b[39m# in parallel.\u001b[39;00m\n\u001b[0;32m    <a href='file:///c%3A/Users/javie/anaconda3/envs/ML/lib/site-packages/tensorflow/python/eager/def_function.py?line=950'>951</a>\u001b[0m   \u001b[39mself\u001b[39m\u001b[39m.\u001b[39m_lock\u001b[39m.\u001b[39mrelease()\n",
      "File \u001b[1;32mc:\\Users\\javie\\anaconda3\\envs\\ML\\lib\\site-packages\\tensorflow\\python\\eager\\function.py:2956\u001b[0m, in \u001b[0;36mFunction.__call__\u001b[1;34m(self, *args, **kwargs)\u001b[0m\n\u001b[0;32m   <a href='file:///c%3A/Users/javie/anaconda3/envs/ML/lib/site-packages/tensorflow/python/eager/function.py?line=2952'>2953</a>\u001b[0m \u001b[39mwith\u001b[39;00m \u001b[39mself\u001b[39m\u001b[39m.\u001b[39m_lock:\n\u001b[0;32m   <a href='file:///c%3A/Users/javie/anaconda3/envs/ML/lib/site-packages/tensorflow/python/eager/function.py?line=2953'>2954</a>\u001b[0m   (graph_function,\n\u001b[0;32m   <a href='file:///c%3A/Users/javie/anaconda3/envs/ML/lib/site-packages/tensorflow/python/eager/function.py?line=2954'>2955</a>\u001b[0m    filtered_flat_args) \u001b[39m=\u001b[39m \u001b[39mself\u001b[39m\u001b[39m.\u001b[39m_maybe_define_function(args, kwargs)\n\u001b[1;32m-> <a href='file:///c%3A/Users/javie/anaconda3/envs/ML/lib/site-packages/tensorflow/python/eager/function.py?line=2955'>2956</a>\u001b[0m \u001b[39mreturn\u001b[39;00m graph_function\u001b[39m.\u001b[39;49m_call_flat(\n\u001b[0;32m   <a href='file:///c%3A/Users/javie/anaconda3/envs/ML/lib/site-packages/tensorflow/python/eager/function.py?line=2956'>2957</a>\u001b[0m     filtered_flat_args, captured_inputs\u001b[39m=\u001b[39;49mgraph_function\u001b[39m.\u001b[39;49mcaptured_inputs)\n",
      "File \u001b[1;32mc:\\Users\\javie\\anaconda3\\envs\\ML\\lib\\site-packages\\tensorflow\\python\\eager\\function.py:1853\u001b[0m, in \u001b[0;36mConcreteFunction._call_flat\u001b[1;34m(self, args, captured_inputs, cancellation_manager)\u001b[0m\n\u001b[0;32m   <a href='file:///c%3A/Users/javie/anaconda3/envs/ML/lib/site-packages/tensorflow/python/eager/function.py?line=1848'>1849</a>\u001b[0m possible_gradient_type \u001b[39m=\u001b[39m gradients_util\u001b[39m.\u001b[39mPossibleTapeGradientTypes(args)\n\u001b[0;32m   <a href='file:///c%3A/Users/javie/anaconda3/envs/ML/lib/site-packages/tensorflow/python/eager/function.py?line=1849'>1850</a>\u001b[0m \u001b[39mif\u001b[39;00m (possible_gradient_type \u001b[39m==\u001b[39m gradients_util\u001b[39m.\u001b[39mPOSSIBLE_GRADIENT_TYPES_NONE\n\u001b[0;32m   <a href='file:///c%3A/Users/javie/anaconda3/envs/ML/lib/site-packages/tensorflow/python/eager/function.py?line=1850'>1851</a>\u001b[0m     \u001b[39mand\u001b[39;00m executing_eagerly):\n\u001b[0;32m   <a href='file:///c%3A/Users/javie/anaconda3/envs/ML/lib/site-packages/tensorflow/python/eager/function.py?line=1851'>1852</a>\u001b[0m   \u001b[39m# No tape is watching; skip to running the function.\u001b[39;00m\n\u001b[1;32m-> <a href='file:///c%3A/Users/javie/anaconda3/envs/ML/lib/site-packages/tensorflow/python/eager/function.py?line=1852'>1853</a>\u001b[0m   \u001b[39mreturn\u001b[39;00m \u001b[39mself\u001b[39m\u001b[39m.\u001b[39m_build_call_outputs(\u001b[39mself\u001b[39;49m\u001b[39m.\u001b[39;49m_inference_function\u001b[39m.\u001b[39;49mcall(\n\u001b[0;32m   <a href='file:///c%3A/Users/javie/anaconda3/envs/ML/lib/site-packages/tensorflow/python/eager/function.py?line=1853'>1854</a>\u001b[0m       ctx, args, cancellation_manager\u001b[39m=\u001b[39;49mcancellation_manager))\n\u001b[0;32m   <a href='file:///c%3A/Users/javie/anaconda3/envs/ML/lib/site-packages/tensorflow/python/eager/function.py?line=1854'>1855</a>\u001b[0m forward_backward \u001b[39m=\u001b[39m \u001b[39mself\u001b[39m\u001b[39m.\u001b[39m_select_forward_and_backward_functions(\n\u001b[0;32m   <a href='file:///c%3A/Users/javie/anaconda3/envs/ML/lib/site-packages/tensorflow/python/eager/function.py?line=1855'>1856</a>\u001b[0m     args,\n\u001b[0;32m   <a href='file:///c%3A/Users/javie/anaconda3/envs/ML/lib/site-packages/tensorflow/python/eager/function.py?line=1856'>1857</a>\u001b[0m     possible_gradient_type,\n\u001b[0;32m   <a href='file:///c%3A/Users/javie/anaconda3/envs/ML/lib/site-packages/tensorflow/python/eager/function.py?line=1857'>1858</a>\u001b[0m     executing_eagerly)\n\u001b[0;32m   <a href='file:///c%3A/Users/javie/anaconda3/envs/ML/lib/site-packages/tensorflow/python/eager/function.py?line=1858'>1859</a>\u001b[0m forward_function, args_with_tangents \u001b[39m=\u001b[39m forward_backward\u001b[39m.\u001b[39mforward()\n",
      "File \u001b[1;32mc:\\Users\\javie\\anaconda3\\envs\\ML\\lib\\site-packages\\tensorflow\\python\\eager\\function.py:499\u001b[0m, in \u001b[0;36m_EagerDefinedFunction.call\u001b[1;34m(self, ctx, args, cancellation_manager)\u001b[0m\n\u001b[0;32m    <a href='file:///c%3A/Users/javie/anaconda3/envs/ML/lib/site-packages/tensorflow/python/eager/function.py?line=496'>497</a>\u001b[0m \u001b[39mwith\u001b[39;00m _InterpolateFunctionError(\u001b[39mself\u001b[39m):\n\u001b[0;32m    <a href='file:///c%3A/Users/javie/anaconda3/envs/ML/lib/site-packages/tensorflow/python/eager/function.py?line=497'>498</a>\u001b[0m   \u001b[39mif\u001b[39;00m cancellation_manager \u001b[39mis\u001b[39;00m \u001b[39mNone\u001b[39;00m:\n\u001b[1;32m--> <a href='file:///c%3A/Users/javie/anaconda3/envs/ML/lib/site-packages/tensorflow/python/eager/function.py?line=498'>499</a>\u001b[0m     outputs \u001b[39m=\u001b[39m execute\u001b[39m.\u001b[39;49mexecute(\n\u001b[0;32m    <a href='file:///c%3A/Users/javie/anaconda3/envs/ML/lib/site-packages/tensorflow/python/eager/function.py?line=499'>500</a>\u001b[0m         \u001b[39mstr\u001b[39;49m(\u001b[39mself\u001b[39;49m\u001b[39m.\u001b[39;49msignature\u001b[39m.\u001b[39;49mname),\n\u001b[0;32m    <a href='file:///c%3A/Users/javie/anaconda3/envs/ML/lib/site-packages/tensorflow/python/eager/function.py?line=500'>501</a>\u001b[0m         num_outputs\u001b[39m=\u001b[39;49m\u001b[39mself\u001b[39;49m\u001b[39m.\u001b[39;49m_num_outputs,\n\u001b[0;32m    <a href='file:///c%3A/Users/javie/anaconda3/envs/ML/lib/site-packages/tensorflow/python/eager/function.py?line=501'>502</a>\u001b[0m         inputs\u001b[39m=\u001b[39;49margs,\n\u001b[0;32m    <a href='file:///c%3A/Users/javie/anaconda3/envs/ML/lib/site-packages/tensorflow/python/eager/function.py?line=502'>503</a>\u001b[0m         attrs\u001b[39m=\u001b[39;49mattrs,\n\u001b[0;32m    <a href='file:///c%3A/Users/javie/anaconda3/envs/ML/lib/site-packages/tensorflow/python/eager/function.py?line=503'>504</a>\u001b[0m         ctx\u001b[39m=\u001b[39;49mctx)\n\u001b[0;32m    <a href='file:///c%3A/Users/javie/anaconda3/envs/ML/lib/site-packages/tensorflow/python/eager/function.py?line=504'>505</a>\u001b[0m   \u001b[39melse\u001b[39;00m:\n\u001b[0;32m    <a href='file:///c%3A/Users/javie/anaconda3/envs/ML/lib/site-packages/tensorflow/python/eager/function.py?line=505'>506</a>\u001b[0m     outputs \u001b[39m=\u001b[39m execute\u001b[39m.\u001b[39mexecute_with_cancellation(\n\u001b[0;32m    <a href='file:///c%3A/Users/javie/anaconda3/envs/ML/lib/site-packages/tensorflow/python/eager/function.py?line=506'>507</a>\u001b[0m         \u001b[39mstr\u001b[39m(\u001b[39mself\u001b[39m\u001b[39m.\u001b[39msignature\u001b[39m.\u001b[39mname),\n\u001b[0;32m    <a href='file:///c%3A/Users/javie/anaconda3/envs/ML/lib/site-packages/tensorflow/python/eager/function.py?line=507'>508</a>\u001b[0m         num_outputs\u001b[39m=\u001b[39m\u001b[39mself\u001b[39m\u001b[39m.\u001b[39m_num_outputs,\n\u001b[1;32m   (...)\u001b[0m\n\u001b[0;32m    <a href='file:///c%3A/Users/javie/anaconda3/envs/ML/lib/site-packages/tensorflow/python/eager/function.py?line=510'>511</a>\u001b[0m         ctx\u001b[39m=\u001b[39mctx,\n\u001b[0;32m    <a href='file:///c%3A/Users/javie/anaconda3/envs/ML/lib/site-packages/tensorflow/python/eager/function.py?line=511'>512</a>\u001b[0m         cancellation_manager\u001b[39m=\u001b[39mcancellation_manager)\n",
      "File \u001b[1;32mc:\\Users\\javie\\anaconda3\\envs\\ML\\lib\\site-packages\\tensorflow\\python\\eager\\execute.py:54\u001b[0m, in \u001b[0;36mquick_execute\u001b[1;34m(op_name, num_outputs, inputs, attrs, ctx, name)\u001b[0m\n\u001b[0;32m     <a href='file:///c%3A/Users/javie/anaconda3/envs/ML/lib/site-packages/tensorflow/python/eager/execute.py?line=51'>52</a>\u001b[0m \u001b[39mtry\u001b[39;00m:\n\u001b[0;32m     <a href='file:///c%3A/Users/javie/anaconda3/envs/ML/lib/site-packages/tensorflow/python/eager/execute.py?line=52'>53</a>\u001b[0m   ctx\u001b[39m.\u001b[39mensure_initialized()\n\u001b[1;32m---> <a href='file:///c%3A/Users/javie/anaconda3/envs/ML/lib/site-packages/tensorflow/python/eager/execute.py?line=53'>54</a>\u001b[0m   tensors \u001b[39m=\u001b[39m pywrap_tfe\u001b[39m.\u001b[39;49mTFE_Py_Execute(ctx\u001b[39m.\u001b[39;49m_handle, device_name, op_name,\n\u001b[0;32m     <a href='file:///c%3A/Users/javie/anaconda3/envs/ML/lib/site-packages/tensorflow/python/eager/execute.py?line=54'>55</a>\u001b[0m                                       inputs, attrs, num_outputs)\n\u001b[0;32m     <a href='file:///c%3A/Users/javie/anaconda3/envs/ML/lib/site-packages/tensorflow/python/eager/execute.py?line=55'>56</a>\u001b[0m \u001b[39mexcept\u001b[39;00m core\u001b[39m.\u001b[39m_NotOkStatusException \u001b[39mas\u001b[39;00m e:\n\u001b[0;32m     <a href='file:///c%3A/Users/javie/anaconda3/envs/ML/lib/site-packages/tensorflow/python/eager/execute.py?line=56'>57</a>\u001b[0m   \u001b[39mif\u001b[39;00m name \u001b[39mis\u001b[39;00m \u001b[39mnot\u001b[39;00m \u001b[39mNone\u001b[39;00m:\n",
      "\u001b[1;31mKeyboardInterrupt\u001b[0m: "
     ]
    }
   ],
   "source": [
    "classifier.fit_generator(training_set, epochs = 10, validation_data = test_set)"
   ]
  },
  {
   "cell_type": "code",
   "execution_count": null,
   "metadata": {},
   "outputs": [],
   "source": []
  },
  {
   "cell_type": "code",
   "execution_count": null,
   "metadata": {},
   "outputs": [],
   "source": []
  },
  {
   "cell_type": "code",
   "execution_count": null,
   "metadata": {},
   "outputs": [
    {
     "data": {
      "text/plain": [
       "251"
      ]
     },
     "execution_count": 6,
     "metadata": {},
     "output_type": "execute_result"
    }
   ],
   "source": [
    "len(training_set)"
   ]
  },
  {
   "cell_type": "code",
   "execution_count": null,
   "metadata": {},
   "outputs": [
    {
     "data": {
      "text/plain": [
       "(array([[[[0.56078434, 0.41176474, 0.27058825],\n",
       "          [0.56078434, 0.41176474, 0.26666668],\n",
       "          [0.18823531, 0.08235294, 0.        ],\n",
       "          ...,\n",
       "          [0.49803925, 0.3254902 , 0.04705883],\n",
       "          [0.38431376, 0.25490198, 0.13333334],\n",
       "          [0.38431376, 0.2392157 , 0.13725491]],\n",
       " \n",
       "         [[0.5568628 , 0.40784317, 0.2627451 ],\n",
       "          [0.17254902, 0.07450981, 0.        ],\n",
       "          [0.19215688, 0.07843138, 0.0627451 ],\n",
       "          ...,\n",
       "          [0.5372549 , 0.3647059 , 0.07058824],\n",
       "          [0.45098042, 0.2901961 , 0.08627451],\n",
       "          [0.36862746, 0.22352943, 0.14901961]],\n",
       " \n",
       "         [[0.14901961, 0.1137255 , 0.04705883],\n",
       "          [0.12941177, 0.07058824, 0.05882353],\n",
       "          [0.18823531, 0.09019608, 0.01176471],\n",
       "          ...,\n",
       "          [0.50980395, 0.34509805, 0.05490196],\n",
       "          [0.5372549 , 0.3529412 , 0.08627451],\n",
       "          [0.36862746, 0.2509804 , 0.11764707]],\n",
       " \n",
       "         ...,\n",
       " \n",
       "         [[0.63529414, 0.54509807, 0.23137257],\n",
       "          [0.6431373 , 0.54509807, 0.14117648],\n",
       "          [0.6627451 , 0.54509807, 0.16862746],\n",
       "          ...,\n",
       "          [0.6117647 , 0.52156866, 0.15686275],\n",
       "          [0.6117647 , 0.5058824 , 0.15686275],\n",
       "          [0.59607846, 0.48627454, 0.15686275]],\n",
       " \n",
       "         [[0.6509804 , 0.57254905, 0.28627452],\n",
       "          [0.6666667 , 0.5686275 , 0.2392157 ],\n",
       "          [0.6627451 , 0.54509807, 0.16862746],\n",
       "          ...,\n",
       "          [0.5882353 , 0.49803925, 0.13333334],\n",
       "          [0.6039216 , 0.49803925, 0.14901961],\n",
       "          [0.6       , 0.4901961 , 0.16078432]],\n",
       " \n",
       "         [[0.65882355, 0.56078434, 0.3019608 ],\n",
       "          [0.6627451 , 0.5686275 , 0.28627452],\n",
       "          [0.65882355, 0.5803922 , 0.24313727],\n",
       "          ...,\n",
       "          [0.6117647 , 0.50980395, 0.13725491],\n",
       "          [0.627451  , 0.5254902 , 0.19215688],\n",
       "          [0.60784316, 0.5176471 , 0.21960786]]],\n",
       " \n",
       " \n",
       "        [[[0.30588236, 0.24313727, 0.19215688],\n",
       "          [0.41176474, 0.32156864, 0.2901961 ],\n",
       "          [0.6       , 0.48627454, 0.4156863 ],\n",
       "          ...,\n",
       "          [0.21960786, 0.19215688, 0.16078432],\n",
       "          [0.3647059 , 0.32941177, 0.29411766],\n",
       "          [0.33333334, 0.30980393, 0.2627451 ]],\n",
       " \n",
       "         [[0.76470596, 0.73333335, 0.7254902 ],\n",
       "          [0.4039216 , 0.33333334, 0.2784314 ],\n",
       "          [0.5019608 , 0.3921569 , 0.30980393],\n",
       "          ...,\n",
       "          [0.78823537, 0.8117648 , 0.7960785 ],\n",
       "          [0.78823537, 0.8117648 , 0.8117648 ],\n",
       "          [0.7960785 , 0.8196079 , 0.8196079 ]],\n",
       " \n",
       "         [[0.67058825, 0.6666667 , 0.69803923],\n",
       "          [0.34509805, 0.29411766, 0.227451  ],\n",
       "          [0.4666667 , 0.35686275, 0.27058825],\n",
       "          ...,\n",
       "          [0.2901961 , 0.3137255 , 0.26666668],\n",
       "          [0.34509805, 0.37254903, 0.30980393],\n",
       "          [0.40784317, 0.43529415, 0.3647059 ]],\n",
       " \n",
       "         ...,\n",
       " \n",
       "         [[0.75294125, 0.7176471 , 0.72156864],\n",
       "          [0.76470596, 0.70980394, 0.7058824 ],\n",
       "          [0.7254902 , 0.6431373 , 0.6392157 ],\n",
       "          ...,\n",
       "          [0.43529415, 0.43529415, 0.38823533],\n",
       "          [0.45098042, 0.45098042, 0.41176474],\n",
       "          [0.427451  , 0.427451  , 0.38823533]],\n",
       " \n",
       "         [[0.7294118 , 0.7176471 , 0.68235296],\n",
       "          [0.7607844 , 0.74509805, 0.70980394],\n",
       "          [0.7725491 , 0.74509805, 0.72156864],\n",
       "          ...,\n",
       "          [0.4901961 , 0.4901961 , 0.4431373 ],\n",
       "          [0.41176474, 0.41176474, 0.3647059 ],\n",
       "          [0.4784314 , 0.4784314 , 0.43137258]],\n",
       " \n",
       "         [[0.7686275 , 0.7176471 , 0.654902  ],\n",
       "          [0.7607844 , 0.7294118 , 0.6862745 ],\n",
       "          [0.7411765 , 0.7137255 , 0.6901961 ],\n",
       "          ...,\n",
       "          [0.36078432, 0.3647059 , 0.30980393],\n",
       "          [0.3803922 , 0.38431376, 0.32156864],\n",
       "          [0.427451  , 0.43137258, 0.36862746]]],\n",
       " \n",
       " \n",
       "        [[[0.37647063, 0.38823533, 0.26666668],\n",
       "          [0.3647059 , 0.37647063, 0.25490198],\n",
       "          [0.36078432, 0.34509805, 0.23137257],\n",
       "          ...,\n",
       "          [0.38431376, 0.38823533, 0.3254902 ],\n",
       "          [0.3647059 , 0.37254903, 0.31764707],\n",
       "          [0.36078432, 0.3647059 , 0.3019608 ]],\n",
       " \n",
       "         [[0.4039216 , 0.3921569 , 0.2627451 ],\n",
       "          [0.37254903, 0.36078432, 0.23137257],\n",
       "          [0.38431376, 0.37254903, 0.23529413],\n",
       "          ...,\n",
       "          [0.40000004, 0.4039216 , 0.33333334],\n",
       "          [0.40000004, 0.39607847, 0.31764707],\n",
       "          [0.42352945, 0.41960788, 0.34901962]],\n",
       " \n",
       "         [[0.3921569 , 0.3921569 , 0.25882354],\n",
       "          [0.3529412 , 0.3529412 , 0.21960786],\n",
       "          [0.37254903, 0.37647063, 0.24313727],\n",
       "          ...,\n",
       "          [0.40000004, 0.4039216 , 0.33333334],\n",
       "          [0.40000004, 0.4039216 , 0.33333334],\n",
       "          [0.3803922 , 0.38431376, 0.3137255 ]],\n",
       " \n",
       "         ...,\n",
       " \n",
       "         [[0.32156864, 0.28627452, 0.1254902 ],\n",
       "          [0.3137255 , 0.2784314 , 0.11764707],\n",
       "          [0.3372549 , 0.30588236, 0.12156864],\n",
       "          ...,\n",
       "          [0.20000002, 0.18823531, 0.12156864],\n",
       "          [0.2392157 , 0.227451  , 0.16078432],\n",
       "          [0.20392159, 0.19215688, 0.1254902 ]],\n",
       " \n",
       "         [[0.30588236, 0.27058825, 0.10980393],\n",
       "          [0.3019608 , 0.26666668, 0.10588236],\n",
       "          [0.33333334, 0.29803923, 0.12941177],\n",
       "          ...,\n",
       "          [0.20000002, 0.18823531, 0.12156864],\n",
       "          [0.24705884, 0.23529413, 0.16862746],\n",
       "          [0.20784315, 0.19607845, 0.12941177]],\n",
       " \n",
       "         [[0.3254902 , 0.29411766, 0.1137255 ],\n",
       "          [0.36078432, 0.32941177, 0.14901961],\n",
       "          [0.3254902 , 0.29411766, 0.10980393],\n",
       "          ...,\n",
       "          [0.16862746, 0.15686275, 0.09803922],\n",
       "          [0.25882354, 0.24705884, 0.17254902],\n",
       "          [0.25882354, 0.26666668, 0.18431373]]],\n",
       " \n",
       " \n",
       "        ...,\n",
       " \n",
       " \n",
       "        [[[0.49803925, 0.45098042, 0.34901962],\n",
       "          [0.4666667 , 0.41960788, 0.33333334],\n",
       "          [0.4901961 , 0.43529415, 0.38431376],\n",
       "          ...,\n",
       "          [0.25490198, 0.15294118, 0.16470589],\n",
       "          [0.3254902 , 0.23137257, 0.23137257],\n",
       "          [0.29411766, 0.21960786, 0.19607845]],\n",
       " \n",
       "         [[0.5058824 , 0.454902  , 0.38823533],\n",
       "          [0.49803925, 0.44705886, 0.38431376],\n",
       "          [0.4901961 , 0.43529415, 0.38431376],\n",
       "          ...,\n",
       "          [0.25882354, 0.2627451 , 0.24313727],\n",
       "          [0.20784315, 0.19607845, 0.1764706 ],\n",
       "          [0.2509804 , 0.19607845, 0.18431373]],\n",
       " \n",
       "         [[0.44705886, 0.3921569 , 0.34901962],\n",
       "          [0.47450984, 0.41960788, 0.37647063],\n",
       "          [0.5019608 , 0.44705886, 0.39607847],\n",
       "          ...,\n",
       "          [0.2627451 , 0.21960786, 0.23529413],\n",
       "          [0.2392157 , 0.19215688, 0.20000002],\n",
       "          [0.28235295, 0.21960786, 0.21960786]],\n",
       " \n",
       "         ...,\n",
       " \n",
       "         [[0.34509805, 0.3019608 , 0.2784314 ],\n",
       "          [0.38431376, 0.34117648, 0.33333334],\n",
       "          [0.42352945, 0.37647063, 0.38431376],\n",
       "          ...,\n",
       "          [0.9450981 , 0.9058824 , 0.90196085],\n",
       "          [0.97647065, 0.94117653, 0.9215687 ],\n",
       "          [0.9058824 , 0.8705883 , 0.8352942 ]],\n",
       " \n",
       "         [[0.40000004, 0.35686275, 0.34901962],\n",
       "          [0.42352945, 0.3803922 , 0.37254903],\n",
       "          [0.43529415, 0.38823533, 0.38823533],\n",
       "          ...,\n",
       "          [1.        , 0.9843138 , 0.9568628 ],\n",
       "          [0.9176471 , 0.882353  , 0.854902  ],\n",
       "          [0.79215693, 0.7568628 , 0.7294118 ]],\n",
       " \n",
       "         [[0.29803923, 0.2509804 , 0.26666668],\n",
       "          [0.49803925, 0.45098042, 0.45098042],\n",
       "          [0.5019608 , 0.45882356, 0.4431373 ],\n",
       "          ...,\n",
       "          [0.9490197 , 0.9176471 , 0.86666673],\n",
       "          [0.7176471 , 0.68235296, 0.64705884],\n",
       "          [0.7254902 , 0.6901961 , 0.67058825]]],\n",
       " \n",
       " \n",
       "        [[[0.32156864, 0.3372549 , 0.33333334],\n",
       "          [0.30588236, 0.32156864, 0.31764707],\n",
       "          [0.29411766, 0.30980393, 0.30588236],\n",
       "          ...,\n",
       "          [0.69411767, 0.7019608 , 0.6901961 ],\n",
       "          [0.6666667 , 0.6745098 , 0.67058825],\n",
       "          [0.63529414, 0.6431373 , 0.6392157 ]],\n",
       " \n",
       "         [[0.37647063, 0.3921569 , 0.38823533],\n",
       "          [0.32941177, 0.34509805, 0.34117648],\n",
       "          [0.2784314 , 0.29411766, 0.2901961 ],\n",
       "          ...,\n",
       "          [0.654902  , 0.6627451 , 0.6509804 ],\n",
       "          [0.6627451 , 0.67058825, 0.6666667 ],\n",
       "          [0.6313726 , 0.6392157 , 0.63529414]],\n",
       " \n",
       "         [[0.4039216 , 0.41960788, 0.43137258],\n",
       "          [0.3372549 , 0.3529412 , 0.34901962],\n",
       "          [0.2901961 , 0.30980393, 0.29411766],\n",
       "          ...,\n",
       "          [0.61960787, 0.627451  , 0.6156863 ],\n",
       "          [0.6509804 , 0.6509804 , 0.6509804 ],\n",
       "          [0.6156863 , 0.6156863 , 0.6156863 ]],\n",
       " \n",
       "         ...,\n",
       " \n",
       "         [[0.2509804 , 0.11764707, 0.1137255 ],\n",
       "          [0.27058825, 0.11764707, 0.12156864],\n",
       "          [0.30980393, 0.14509805, 0.15294118],\n",
       "          ...,\n",
       "          [0.2784314 , 0.1764706 , 0.08627451],\n",
       "          [0.36078432, 0.26666668, 0.17254902],\n",
       "          [0.38823533, 0.29411766, 0.20000002]],\n",
       " \n",
       "         [[0.31764707, 0.14117648, 0.15294118],\n",
       "          [0.33333334, 0.15686275, 0.16862746],\n",
       "          [0.3803922 , 0.20000002, 0.21176472],\n",
       "          ...,\n",
       "          [0.27058825, 0.1764706 , 0.07450981],\n",
       "          [0.26666668, 0.16862746, 0.09019608],\n",
       "          [0.30588236, 0.21176472, 0.10980393]],\n",
       " \n",
       "         [[0.3529412 , 0.15294118, 0.17254902],\n",
       "          [0.37647063, 0.1764706 , 0.19607845],\n",
       "          [0.41960788, 0.21960786, 0.2392157 ],\n",
       "          ...,\n",
       "          [0.3529412 , 0.25882354, 0.14901961],\n",
       "          [0.2901961 , 0.19607845, 0.10196079],\n",
       "          [0.25490198, 0.16078432, 0.06666667]]],\n",
       " \n",
       " \n",
       "        [[[0.20784315, 0.05882353, 0.00784314],\n",
       "          [0.2627451 , 0.09019608, 0.04705883],\n",
       "          [0.25882354, 0.09019608, 0.02352941],\n",
       "          ...,\n",
       "          [0.7607844 , 0.70980394, 0.7490196 ],\n",
       "          [0.76470596, 0.7137255 , 0.75294125],\n",
       "          [0.7607844 , 0.70980394, 0.7490196 ]],\n",
       " \n",
       "         [[0.19215688, 0.0627451 , 0.02745098],\n",
       "          [0.227451  , 0.07450981, 0.04705883],\n",
       "          [0.1137255 , 0.01176471, 0.00784314],\n",
       "          ...,\n",
       "          [0.7607844 , 0.7058824 , 0.7568628 ],\n",
       "          [0.7568628 , 0.7058824 , 0.74509805],\n",
       "          [0.7568628 , 0.7058824 , 0.74509805]],\n",
       " \n",
       "         [[0.28235295, 0.13725491, 0.0627451 ],\n",
       "          [0.20392159, 0.07058824, 0.03137255],\n",
       "          [0.05490196, 0.        , 0.00392157],\n",
       "          ...,\n",
       "          [0.7568628 , 0.7058824 , 0.74509805],\n",
       "          [0.7490196 , 0.69803923, 0.73333335],\n",
       "          [0.77647066, 0.70980394, 0.7490196 ]],\n",
       " \n",
       "         ...,\n",
       " \n",
       "         [[0.97647065, 0.7019608 , 0.09019608],\n",
       "          [0.91372555, 0.62352943, 0.03137255],\n",
       "          [1.        , 0.7686275 , 0.12941177],\n",
       "          ...,\n",
       "          [0.18431373, 0.08627451, 0.06666667],\n",
       "          [0.24313727, 0.13725491, 0.10196079],\n",
       "          [0.25882354, 0.14901961, 0.05490196]],\n",
       " \n",
       "         [[1.        , 0.7843138 , 0.15294118],\n",
       "          [0.9921569 , 0.7294118 , 0.12941177],\n",
       "          [0.9568628 , 0.6509804 , 0.07058824],\n",
       "          ...,\n",
       "          [0.21176472, 0.14117648, 0.08627451],\n",
       "          [0.21568629, 0.12941177, 0.07450981],\n",
       "          [0.27450982, 0.18431373, 0.12941177]],\n",
       " \n",
       "         [[0.98823535, 0.7803922 , 0.13725491],\n",
       "          [1.        , 0.7960785 , 0.16078432],\n",
       "          [1.        , 0.73333335, 0.13333334],\n",
       "          ...,\n",
       "          [0.27058825, 0.21176472, 0.13725491],\n",
       "          [0.30588236, 0.22352943, 0.15686275],\n",
       "          [0.38431376, 0.2784314 , 0.19607845]]]], dtype=float32),\n",
       " array([0., 1., 1., 0., 1., 1., 1., 1., 0., 0., 1., 0., 1., 0., 0., 0., 1.,\n",
       "        1., 0., 0., 1., 1., 1., 1., 0., 1., 0., 1., 0., 0., 0., 1.],\n",
       "       dtype=float32))"
      ]
     },
     "execution_count": 7,
     "metadata": {},
     "output_type": "execute_result"
    }
   ],
   "source": [
    "test_set[0]"
   ]
  },
  {
   "cell_type": "code",
   "execution_count": null,
   "metadata": {},
   "outputs": [],
   "source": [
    "# Part 3 - Making new predictions\n",
    "import numpy as np\n",
    "from keras.preprocessing import image\n",
    "test_image = image.load_img('test/cats/cat.4002.jpg', target_size = (64, 64))\n",
    "test_image = image.img_to_array(test_image)\n",
    "test_image = np.expand_dims(test_image, axis = 0)\n",
    "result = classifier.predict(test_image)\n",
    "training_set.class_indices\n",
    "if result[0][0] == 1:\n",
    "    prediction = 'dog'\n",
    "else:\n",
    "    prediction = 'cat'"
   ]
  },
  {
   "cell_type": "code",
   "execution_count": null,
   "metadata": {},
   "outputs": [],
   "source": [
    "test_image = image.load_img('test/dogs/dog.4005.jpg', target_size = (64, 64))\n",
    "test_image = image.img_to_array(test_image)\n",
    "test_image = np.expand_dims(test_image, axis = 0)\n",
    "result = classifier.predict(test_image)\n",
    "training_set.class_indices\n",
    "if result[0][0] == 1:\n",
    "    prediction = 'dog'\n",
    "else:\n",
    "    prediction = 'cat'"
   ]
  },
  {
   "cell_type": "code",
   "execution_count": null,
   "metadata": {},
   "outputs": [
    {
     "name": "stdout",
     "output_type": "stream",
     "text": [
      "cat\n"
     ]
    }
   ],
   "source": [
    "print(prediction)"
   ]
  }
 ],
 "metadata": {
  "interpreter": {
   "hash": "b1f9c8bbb9b9294d1e5540d96ca6212ef2306b67bcb71a29e31048086b19646d"
  },
  "kernelspec": {
   "display_name": "Python 3.9.12 ('ML')",
   "language": "python",
   "name": "python3"
  },
  "language_info": {
   "codemirror_mode": {
    "name": "ipython",
    "version": 3
   },
   "file_extension": ".py",
   "mimetype": "text/x-python",
   "name": "python",
   "nbconvert_exporter": "python",
   "pygments_lexer": "ipython3",
   "version": "3.9.12"
  },
  "orig_nbformat": 4
 },
 "nbformat": 4,
 "nbformat_minor": 2
}
